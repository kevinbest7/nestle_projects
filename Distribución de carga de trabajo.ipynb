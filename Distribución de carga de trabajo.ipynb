{
 "cells": [
  {
   "cell_type": "code",
   "execution_count": 81,
   "id": "6a926bb2",
   "metadata": {},
   "outputs": [],
   "source": [
    "import numpy as np\n",
    "import pandas as pd\n",
    "from matplotlib import pyplot as plt\n",
    "import seaborn as sns\n",
    "from scipy.optimize import curve_fit"
   ]
  },
  {
   "cell_type": "code",
   "execution_count": 83,
   "id": "9a810a85",
   "metadata": {},
   "outputs": [
    {
     "name": "stdout",
     "output_type": "stream",
     "text": [
      "Ingresa el número de meses del proyecto: \n",
      "20\n",
      "\n",
      "Ingresa el número máximo de dias/hombre en la fase de Inicio: \n",
      "13\n",
      "Ingresa el número máximo de dias/hombre en la fase de Planeación: \n",
      "17\n",
      "Ingresa el número máximo de dias/hombre en la fase de Desarrollo y Monitoreo: \n",
      "10\n",
      "Ingresa el número máximo de dias/hombre en la fase de Implementación: \n",
      "17\n",
      "Ingresa el número máximo de dias/hombre en la fase de Cierre: \n",
      "5\n",
      "\n",
      "Ingresa el porcentaje (en decimales) de la fase de Inicio: \n",
      "0.05\n",
      "Ingresa el porcentaje (en decimales) de la fase de Planeación: \n",
      "0.1\n",
      "Ingresa el porcentaje (en decimales) de la fase de Desarrollo y Monitoreo: \n",
      "0.65\n",
      "Ingresa el porcentaje (en decimales) de la fase de Implementación: \n",
      "0.1\n",
      "Ingresa el porcentaje (en decimales) de la fase de Cierre: \n",
      "0.1\n"
     ]
    }
   ],
   "source": [
    "print('Ingresa el número de meses del proyecto: ')\n",
    "num_meses = int(input())\n",
    "\n",
    "\n",
    "print('\\nIngresa el número máximo de dias/hombre en la fase de Inicio: ')\n",
    "d_in = int(input())\n",
    "print('Ingresa el número máximo de dias/hombre en la fase de Planeación: ')\n",
    "d_pl = int(input())\n",
    "print('Ingresa el número máximo de dias/hombre en la fase de Desarrollo y Monitoreo: ')\n",
    "d_dym = int(input())\n",
    "print('Ingresa el número máximo de dias/hombre en la fase de Implementación: ')\n",
    "d_im = int(input())\n",
    "print('Ingresa el número máximo de dias/hombre en la fase de Cierre: ')\n",
    "d_ci = int(input())\n",
    "\n",
    "print('\\nIngresa el porcentaje (en decimales) de la fase de Inicio: ')\n",
    "p_in = float(input())\n",
    "print('Ingresa el porcentaje (en decimales) de la fase de Planeación: ')\n",
    "p_pl = float(input())\n",
    "print('Ingresa el porcentaje (en decimales) de la fase de Desarrollo y Monitoreo: ')\n",
    "p_dym = float(input())\n",
    "print('Ingresa el porcentaje (en decimales) de la fase de Implementación: ')\n",
    "p_im = float(input())\n",
    "print('Ingresa el porcentaje (en decimales) de la fase de Cierre: ')\n",
    "p_ci = float(input())\n"
   ]
  },
  {
   "cell_type": "code",
   "execution_count": 84,
   "id": "dbfa3c1c",
   "metadata": {},
   "outputs": [],
   "source": [
    "l_in = num_meses*p_in\n",
    "l_pl = num_meses*p_pl\n",
    "l_dym = num_meses*p_dym\n",
    "l_im = num_meses*p_im\n",
    "l_ci = num_meses*p_ci"
   ]
  },
  {
   "cell_type": "code",
   "execution_count": 85,
   "id": "d8c0ab41",
   "metadata": {},
   "outputs": [
    {
     "name": "stdout",
     "output_type": "stream",
     "text": [
      "    meses  dias hombre\n",
      "0       1           13\n",
      "1       2           17\n",
      "2       3           17\n",
      "3       4           13\n",
      "4       5           10\n",
      "5       6           10\n",
      "6       7           10\n",
      "7       8           10\n",
      "8       9           10\n",
      "9      10           10\n",
      "10     11           10\n",
      "11     12           10\n",
      "12     13           10\n",
      "13     14           10\n",
      "14     15           10\n",
      "15     16           13\n",
      "16     17           17\n",
      "17     18           17\n",
      "18     19            5\n",
      "19     20            5\n"
     ]
    }
   ],
   "source": [
    "in_list = []\n",
    "for i in range(int(l_in)):\n",
    "    in_list.append(int(d_in))\n",
    "\n",
    "pl_list = []\n",
    "for i in range(int(l_pl)):\n",
    "    pl_list.append(int(d_pl))\n",
    "\n",
    "dym_list = []\n",
    "for i in range(int(l_dym)):\n",
    "    dym_list.append(int(d_dym))\n",
    "dym_list[0] = int((d_pl + d_dym)/2)\n",
    "dym_list[-1] = int((d_im + d_dym)/2)\n",
    "\n",
    "im_list = []\n",
    "for i in range(int(l_im)):\n",
    "    im_list.append(int(d_im))\n",
    "\n",
    "ci_list = []\n",
    "for i in range(int(l_ci)):\n",
    "    ci_list.append(int(d_ci))\n",
    "\n",
    "y = in_list + pl_list + dym_list + im_list + ci_list\n",
    "x = list(np.arange(0, len(y))+1)\n",
    "\n",
    "df = pd.DataFrame({'meses': x , 'dias hombre': y })\n",
    "print(df)"
   ]
  },
  {
   "cell_type": "code",
   "execution_count": 86,
   "id": "9f37a039",
   "metadata": {},
   "outputs": [
    {
     "name": "stdout",
     "output_type": "stream",
     "text": [
      "Ecuación de sexto grado: \n",
      "[-5.64553736e-05  3.47268222e-03 -8.38348598e-02  9.98378692e-01\n",
      " -5.91929595e+00  1.46858768e+01  3.89548703e+00]\n",
      "\n",
      "    meses  dias hombre\n",
      "0       1    13.580028\n",
      "1       2    16.343241\n",
      "2       3    15.647761\n",
      "3       4    13.689557\n",
      "4       5    11.713038\n",
      "5       6    10.285508\n",
      "6       7     9.530968\n",
      "7       8     9.323279\n",
      "8       9     9.438670\n",
      "9      10     9.667602\n",
      "10     11     9.885985\n",
      "11     12    10.085738\n",
      "12     13    10.364719\n",
      "13     14    10.875986\n",
      "14     15    11.736428\n",
      "15     16    12.894736\n",
      "16     17    13.958732\n",
      "17     18    13.982052\n",
      "18     19    11.210172\n",
      "19     20     2.785799\n"
     ]
    }
   ],
   "source": [
    "from scipy.optimize import curve_fit\n",
    "def func(x,a,b,c,d,e,f,g):\n",
    "    return(a*x**6 + b*x**5 + c*x**4 + d*x**3 + e*x**2 + f*x + g)\n",
    "\n",
    "popt, pcov = curve_fit(func, x, y)\n",
    "\n",
    "print('Ecuación de sexto grado: \\n' + str(popt))\n",
    "\n",
    "y_modelo = []\n",
    "\n",
    "for xi in x:\n",
    "    yi = func(xi, *popt)\n",
    "    y_modelo.append(yi)\n",
    "\n",
    "df_modelo = pd.DataFrame({'meses': x , 'dias hombre': y_modelo })\n",
    "print('\\n' + str(df_modelo))  "
   ]
  },
  {
   "cell_type": "code",
   "execution_count": 87,
   "id": "5ec52a4d",
   "metadata": {},
   "outputs": [
    {
     "data": {
      "text/plain": [
       "[<matplotlib.axis.YTick at 0x1a534abdbe0>,\n",
       " <matplotlib.axis.YTick at 0x1a534abd460>,\n",
       " <matplotlib.axis.YTick at 0x1a534abbdf0>,\n",
       " <matplotlib.axis.YTick at 0x1a534aef100>,\n",
       " <matplotlib.axis.YTick at 0x1a534aead60>,\n",
       " <matplotlib.axis.YTick at 0x1a534ae3d00>,\n",
       " <matplotlib.axis.YTick at 0x1a534aef9a0>,\n",
       " <matplotlib.axis.YTick at 0x1a534aefd60>,\n",
       " <matplotlib.axis.YTick at 0x1a534af74f0>,\n",
       " <matplotlib.axis.YTick at 0x1a534af7c40>,\n",
       " <matplotlib.axis.YTick at 0x1a534afb3d0>,\n",
       " <matplotlib.axis.YTick at 0x1a534af78b0>,\n",
       " <matplotlib.axis.YTick at 0x1a534aef130>,\n",
       " <matplotlib.axis.YTick at 0x1a534afb340>,\n",
       " <matplotlib.axis.YTick at 0x1a534b03070>,\n",
       " <matplotlib.axis.YTick at 0x1a534b037c0>,\n",
       " <matplotlib.axis.YTick at 0x1a534b08070>,\n",
       " <matplotlib.axis.YTick at 0x1a534b086a0>,\n",
       " <matplotlib.axis.YTick at 0x1a534b03a30>,\n",
       " <matplotlib.axis.YTick at 0x1a534aea1c0>,\n",
       " <matplotlib.axis.YTick at 0x1a534b08460>,\n",
       " <matplotlib.axis.YTick at 0x1a534b111c0>]"
      ]
     },
     "execution_count": 87,
     "metadata": {},
     "output_type": "execute_result"
    },
    {
     "data": {
      "image/png": "[encoded data removed]",
      "text/plain": [
       "<Figure size 1152x648 with 1 Axes>"
      ]
     },
     "metadata": {
      "needs_background": "light"
     },
     "output_type": "display_data"
    }
   ],
   "source": [
    "plt.figure(figsize=(16, 9))  \n",
    "plt.plot(x, y)\n",
    "plt.plot(x, y_modelo)\n",
    "plt.legend(['original', 'ecuación'])\n",
    "plt.title('Modelo')\n",
    "ax = plt.gca()\n",
    "ax.set_ylim([0, d_pl +4])\n",
    "ax.set_xticks(range(0,num_meses+1))\n",
    "ax.set_yticks(range(0, d_pl+5))"
   ]
  },
  {
   "cell_type": "code",
   "execution_count": null,
   "id": "a7514748",
   "metadata": {},
   "outputs": [],
   "source": []
  }
 ],
 "metadata": {
  "kernelspec": {
   "display_name": "Python 3 (ipykernel)",
   "language": "python",
   "name": "python3"
  },
  "language_info": {
   "codemirror_mode": {
    "name": "ipython",
    "version": 3
   },
   "file_extension": ".py",
   "mimetype": "text/x-python",
   "name": "python",
   "nbconvert_exporter": "python",
   "pygments_lexer": "ipython3",
   "version": "3.9.12"
  }
 },
 "nbformat": 4,
 "nbformat_minor": 5
}
